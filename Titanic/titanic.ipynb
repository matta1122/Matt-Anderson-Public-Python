{
 "metadata": {
  "language_info": {
   "codemirror_mode": {
    "name": "ipython",
    "version": 3
   },
   "file_extension": ".py",
   "mimetype": "text/x-python",
   "name": "python",
   "nbconvert_exporter": "python",
   "pygments_lexer": "ipython3",
   "version": "3.7.6-final"
  },
  "orig_nbformat": 2,
  "kernelspec": {
   "name": "python3",
   "display_name": "Python 3",
   "language": "python"
  }
 },
 "nbformat": 4,
 "nbformat_minor": 2,
 "cells": [
  {
   "cell_type": "code",
   "execution_count": 9,
   "metadata": {},
   "outputs": [
    {
     "output_type": "stream",
     "name": "stdout",
     "text": [
      "[[1, 2, 30, 30]] [1]\n0.7653631284916201\n<bound method NDFrame.head of      Survived  Pclass     Sex   Age     Fare\n0           0       3    male  22.0   7.2500\n1           1       1  female  38.0  71.2833\n2           1       3  female  26.0   7.9250\n3           1       1  female  35.0  53.1000\n4           0       3    male  35.0   8.0500\n..        ...     ...     ...   ...      ...\n886         0       2    male  27.0  13.0000\n887         1       1  female  19.0  30.0000\n888         0       3  female   NaN  23.4500\n889         1       1    male  26.0  30.0000\n890         0       3    male  32.0   7.7500\n\n[891 rows x 5 columns]>\n"
     ]
    }
   ],
   "source": [
    "import pandas as pd\n",
    "from sklearn.model_selection import train_test_split\n",
    "from sklearn import tree\n",
    "\n",
    "df = pd.read_csv(\"titanic.csv\")\n",
    "df.drop(['PassengerId','Name','SibSp','Parch','Ticket','Cabin','Embarked'],axis='columns',inplace=True)\n",
    "inputs = df.drop('Survived', axis='columns')\n",
    "target = df.Survived\n",
    "inputs.Sex = inputs.Sex.map({'male': 1, 'female': 2})\n",
    "inputs.Age[:10]\n",
    "inputs.Age = inputs.Age.fillna(inputs.Age.mean())\n",
    "x_train, x_test, y_train, y_test = train_test_split(inputs,target,test_size=0.2)\n",
    "model = tree.DecisionTreeClassifier()\n",
    "model.fit(x_train,y_train)\n",
    "acc = model.score(x_test,y_test)\n",
    "'''predictions = model.predict(x_train)\n",
    "print(predictions)'''\n",
    "new_input = [[1, 2, 30, 30]]\n",
    "new_output = model.predict(new_input)\n",
    "print(new_input, new_output)\n",
    "print(acc)\n",
    "print(df.head)"
   ]
  }
 ]
}